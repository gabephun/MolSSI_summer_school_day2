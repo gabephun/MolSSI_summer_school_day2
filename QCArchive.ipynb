{
 "cells": [
  {
   "cell_type": "markdown",
   "metadata": {},
   "source": [
    "# QCArchive Demonstration\n",
    "\n",
    "MolSSI Software Summer School - Day 2"
   ]
  },
  {
   "cell_type": "code",
   "execution_count": 25,
   "metadata": {},
   "outputs": [],
   "source": [
    "import numpy as np"
   ]
  },
  {
   "cell_type": "code",
   "execution_count": 6,
   "metadata": {},
   "outputs": [],
   "source": [
    "import qcportal as ptl\n",
    "\n",
    "client = ptl.FractalClient()"
   ]
  },
  {
   "cell_type": "code",
   "execution_count": 8,
   "metadata": {},
   "outputs": [
    {
     "data": {
      "text/html": [
       "\n",
       "<h3>FractalClient</h3>\n",
       "<ul>\n",
       "  <li><b>Server:   &nbsp; </b>The MolSSI QCArchive Server</li>\n",
       "  <li><b>Address:  &nbsp; </b>https://api.qcarchive.molssi.org:443/</li>\n",
       "  <li><b>Username: &nbsp; </b>None</li>\n",
       "</ul>\n"
      ],
      "text/plain": [
       "FractalClient(server_name='The MolSSI QCArchive Server', address='https://api.qcarchive.molssi.org:443/', username='None')"
      ]
     },
     "execution_count": 8,
     "metadata": {},
     "output_type": "execute_result"
    }
   ],
   "source": [
    "client"
   ]
  },
  {
   "cell_type": "code",
   "execution_count": 10,
   "metadata": {},
   "outputs": [],
   "source": [
    "butane = client.query_molecules(id=['61139', '70659'])"
   ]
  },
  {
   "cell_type": "code",
   "execution_count": 11,
   "metadata": {},
   "outputs": [
    {
     "data": {
      "text/plain": [
       "[<Molecule(name='C4H10' formula='C4H10' hash='3bbc6db')>,\n",
       " <Molecule(name='C4H10' formula='C4H10' hash='bb665a3')>]"
      ]
     },
     "execution_count": 11,
     "metadata": {},
     "output_type": "execute_result"
    }
   ],
   "source": [
    "butane"
   ]
  },
  {
   "cell_type": "code",
   "execution_count": 12,
   "metadata": {},
   "outputs": [
    {
     "data": {
      "application/3dmoljs_load.v0": "<div id=\"3dmolviewer_1563891413617766\"  style=\"position: relative; width: 400px; height: 400px\">\n        <p id=\"3dmolwarning_1563891413617766\" style=\"background-color:#ffcccc;color:black\">You appear to be running in JupyterLab (or JavaScript failed to load for some other reason).  You need to install the 3dmol extension: <br>\n        <tt>jupyter labextension install jupyterlab_3dmol</tt></p>\n        </div>\n<script>\n\nvar loadScriptAsync = function(uri){\n  return new Promise((resolve, reject) => {\n    var tag = document.createElement('script');\n    tag.src = uri;\n    tag.async = true;\n    tag.onload = () => {\n      resolve();\n    };\n  var firstScriptTag = document.getElementsByTagName('script')[0];\n  firstScriptTag.parentNode.insertBefore(tag, firstScriptTag);\n});\n};\n\nif(typeof $3Dmolpromise === 'undefined') {\n$3Dmolpromise = null;\n  $3Dmolpromise = loadScriptAsync('https://3dmol.csb.pitt.edu/build/3Dmol.js');\n}\n\nvar viewer_1563891413617766 = null;\nvar warn = document.getElementById(\"3dmolwarning_1563891413617766\");\nif(warn) {\n    warn.parentNode.removeChild(warn);\n}\n$3Dmolpromise.then(function() {\nviewer_1563891413617766 = $3Dmol.createViewer($(\"#3dmolviewer_1563891413617766\"),{backgroundColor:\"white\"});\n\tviewer_1563891413617766.addModel(\"14\\nC4H10\\nC                     0.319142817510    -1.093637470615    -1.564414747816\\nC                    -0.290915848913     1.096758367299     1.567781812448\\nC                     0.092836854842    -0.751249438146    -0.100522397103\\nC                    -0.092794060281     0.751359940931     0.100493429943\\nH                    -0.519879641163    -0.755167725511    -2.180879601800\\nH                     1.228258374974    -0.606784705229    -1.931321629538\\nH                     0.433231534967    -2.173772344395    -1.701604611738\\nH                     0.566770197846     0.756780387768     2.156554230319\\nH                    -1.189142468703     0.614634340052     1.966519364863\\nH                    -0.390704303684     2.178094155841     1.706284173437\\nH                     0.948659303509    -1.102785828023     0.487454535126\\nH                    -0.791724567833    -1.287994152809     0.261736276668\\nH                    -0.960730259026     1.099387769483    -0.471363219252\\nH                     0.783367161017     1.289109832998    -0.280421285847\\n\",\"xyz\");\n\tviewer_1563891413617766.setStyle({\"stick\": {\"radius\": 0.2}, \"sphere\": {\"scale\": 0.3}});\n\tviewer_1563891413617766.zoomTo();\nviewer_1563891413617766.render();\n});\n</script>",
      "text/html": [
       "<div id=\"3dmolviewer_1563891413617766\"  style=\"position: relative; width: 400px; height: 400px\">\n",
       "        <p id=\"3dmolwarning_1563891413617766\" style=\"background-color:#ffcccc;color:black\">You appear to be running in JupyterLab (or JavaScript failed to load for some other reason).  You need to install the 3dmol extension: <br>\n",
       "        <tt>jupyter labextension install jupyterlab_3dmol</tt></p>\n",
       "        </div>\n",
       "<script>\n",
       "\n",
       "var loadScriptAsync = function(uri){\n",
       "  return new Promise((resolve, reject) => {\n",
       "    var tag = document.createElement('script');\n",
       "    tag.src = uri;\n",
       "    tag.async = true;\n",
       "    tag.onload = () => {\n",
       "      resolve();\n",
       "    };\n",
       "  var firstScriptTag = document.getElementsByTagName('script')[0];\n",
       "  firstScriptTag.parentNode.insertBefore(tag, firstScriptTag);\n",
       "});\n",
       "};\n",
       "\n",
       "if(typeof $3Dmolpromise === 'undefined') {\n",
       "$3Dmolpromise = null;\n",
       "  $3Dmolpromise = loadScriptAsync('https://3dmol.csb.pitt.edu/build/3Dmol.js');\n",
       "}\n",
       "\n",
       "var viewer_1563891413617766 = null;\n",
       "var warn = document.getElementById(\"3dmolwarning_1563891413617766\");\n",
       "if(warn) {\n",
       "    warn.parentNode.removeChild(warn);\n",
       "}\n",
       "$3Dmolpromise.then(function() {\n",
       "viewer_1563891413617766 = $3Dmol.createViewer($(\"#3dmolviewer_1563891413617766\"),{backgroundColor:\"white\"});\n",
       "\tviewer_1563891413617766.addModel(\"14\\nC4H10\\nC                     0.319142817510    -1.093637470615    -1.564414747816\\nC                    -0.290915848913     1.096758367299     1.567781812448\\nC                     0.092836854842    -0.751249438146    -0.100522397103\\nC                    -0.092794060281     0.751359940931     0.100493429943\\nH                    -0.519879641163    -0.755167725511    -2.180879601800\\nH                     1.228258374974    -0.606784705229    -1.931321629538\\nH                     0.433231534967    -2.173772344395    -1.701604611738\\nH                     0.566770197846     0.756780387768     2.156554230319\\nH                    -1.189142468703     0.614634340052     1.966519364863\\nH                    -0.390704303684     2.178094155841     1.706284173437\\nH                     0.948659303509    -1.102785828023     0.487454535126\\nH                    -0.791724567833    -1.287994152809     0.261736276668\\nH                    -0.960730259026     1.099387769483    -0.471363219252\\nH                     0.783367161017     1.289109832998    -0.280421285847\\n\",\"xyz\");\n",
       "\tviewer_1563891413617766.setStyle({\"stick\": {\"radius\": 0.2}, \"sphere\": {\"scale\": 0.3}});\n",
       "\tviewer_1563891413617766.zoomTo();\n",
       "viewer_1563891413617766.render();\n",
       "});\n",
       "</script>"
      ]
     },
     "metadata": {},
     "output_type": "display_data"
    },
    {
     "data": {
      "text/plain": [
       "<py3Dmol.view at 0x11bc73e80>"
      ]
     },
     "execution_count": 12,
     "metadata": {},
     "output_type": "execute_result"
    }
   ],
   "source": [
    "butane[0].show()"
   ]
  },
  {
   "cell_type": "code",
   "execution_count": 13,
   "metadata": {},
   "outputs": [
    {
     "data": {
      "application/3dmoljs_load.v0": "<div id=\"3dmolviewer_15638914462397308\"  style=\"position: relative; width: 400px; height: 400px\">\n        <p id=\"3dmolwarning_15638914462397308\" style=\"background-color:#ffcccc;color:black\">You appear to be running in JupyterLab (or JavaScript failed to load for some other reason).  You need to install the 3dmol extension: <br>\n        <tt>jupyter labextension install jupyterlab_3dmol</tt></p>\n        </div>\n<script>\n\nvar loadScriptAsync = function(uri){\n  return new Promise((resolve, reject) => {\n    var tag = document.createElement('script');\n    tag.src = uri;\n    tag.async = true;\n    tag.onload = () => {\n      resolve();\n    };\n  var firstScriptTag = document.getElementsByTagName('script')[0];\n  firstScriptTag.parentNode.insertBefore(tag, firstScriptTag);\n});\n};\n\nif(typeof $3Dmolpromise === 'undefined') {\n$3Dmolpromise = null;\n  $3Dmolpromise = loadScriptAsync('https://3dmol.csb.pitt.edu/build/3Dmol.js');\n}\n\nvar viewer_15638914462397308 = null;\nvar warn = document.getElementById(\"3dmolwarning_15638914462397308\");\nif(warn) {\n    warn.parentNode.removeChild(warn);\n}\n$3Dmolpromise.then(function() {\nviewer_15638914462397308 = $3Dmol.createViewer($(\"#3dmolviewer_15638914462397308\"),{backgroundColor:\"white\"});\n\tviewer_15638914462397308.addModel(\"14\\nC4H10\\nC                    -0.367198611826    -1.239066459661    -0.895096896430\\nC                    -0.805813620019     1.122919020599     0.749193187800\\nC                     0.884999946537    -0.552975918533    -0.342565957722\\nC                     0.651313993821     0.705495331858     0.533442172609\\nH                    -1.015245486716    -1.597844274534    -0.068455110112\\nH                    -0.934555683074    -0.548936751218    -1.553770205346\\nH                    -0.065145201911    -2.119653004760    -1.500550906186\\nH                    -1.371403922022     0.320442026938     1.267036676767\\nH                    -1.290856239503     1.369335458265    -0.218296082402\\nH                    -0.835804383885     2.030484305799     1.388465658940\\nH                     1.531851627070    -0.275261564622    -1.203346997941\\nH                     1.452835145270    -1.302370505887     0.251115044454\\nH                     1.190135739619     1.564630144108     0.077322987724\\nH                     1.111261775825     0.537535321291     1.531802741680\\n\",\"xyz\");\n\tviewer_15638914462397308.setStyle({\"stick\": {\"radius\": 0.2}, \"sphere\": {\"scale\": 0.3}});\n\tviewer_15638914462397308.zoomTo();\nviewer_15638914462397308.render();\n});\n</script>",
      "text/html": [
       "<div id=\"3dmolviewer_15638914462397308\"  style=\"position: relative; width: 400px; height: 400px\">\n",
       "        <p id=\"3dmolwarning_15638914462397308\" style=\"background-color:#ffcccc;color:black\">You appear to be running in JupyterLab (or JavaScript failed to load for some other reason).  You need to install the 3dmol extension: <br>\n",
       "        <tt>jupyter labextension install jupyterlab_3dmol</tt></p>\n",
       "        </div>\n",
       "<script>\n",
       "\n",
       "var loadScriptAsync = function(uri){\n",
       "  return new Promise((resolve, reject) => {\n",
       "    var tag = document.createElement('script');\n",
       "    tag.src = uri;\n",
       "    tag.async = true;\n",
       "    tag.onload = () => {\n",
       "      resolve();\n",
       "    };\n",
       "  var firstScriptTag = document.getElementsByTagName('script')[0];\n",
       "  firstScriptTag.parentNode.insertBefore(tag, firstScriptTag);\n",
       "});\n",
       "};\n",
       "\n",
       "if(typeof $3Dmolpromise === 'undefined') {\n",
       "$3Dmolpromise = null;\n",
       "  $3Dmolpromise = loadScriptAsync('https://3dmol.csb.pitt.edu/build/3Dmol.js');\n",
       "}\n",
       "\n",
       "var viewer_15638914462397308 = null;\n",
       "var warn = document.getElementById(\"3dmolwarning_15638914462397308\");\n",
       "if(warn) {\n",
       "    warn.parentNode.removeChild(warn);\n",
       "}\n",
       "$3Dmolpromise.then(function() {\n",
       "viewer_15638914462397308 = $3Dmol.createViewer($(\"#3dmolviewer_15638914462397308\"),{backgroundColor:\"white\"});\n",
       "\tviewer_15638914462397308.addModel(\"14\\nC4H10\\nC                    -0.367198611826    -1.239066459661    -0.895096896430\\nC                    -0.805813620019     1.122919020599     0.749193187800\\nC                     0.884999946537    -0.552975918533    -0.342565957722\\nC                     0.651313993821     0.705495331858     0.533442172609\\nH                    -1.015245486716    -1.597844274534    -0.068455110112\\nH                    -0.934555683074    -0.548936751218    -1.553770205346\\nH                    -0.065145201911    -2.119653004760    -1.500550906186\\nH                    -1.371403922022     0.320442026938     1.267036676767\\nH                    -1.290856239503     1.369335458265    -0.218296082402\\nH                    -0.835804383885     2.030484305799     1.388465658940\\nH                     1.531851627070    -0.275261564622    -1.203346997941\\nH                     1.452835145270    -1.302370505887     0.251115044454\\nH                     1.190135739619     1.564630144108     0.077322987724\\nH                     1.111261775825     0.537535321291     1.531802741680\\n\",\"xyz\");\n",
       "\tviewer_15638914462397308.setStyle({\"stick\": {\"radius\": 0.2}, \"sphere\": {\"scale\": 0.3}});\n",
       "\tviewer_15638914462397308.zoomTo();\n",
       "viewer_15638914462397308.render();\n",
       "});\n",
       "</script>"
      ]
     },
     "metadata": {},
     "output_type": "display_data"
    },
    {
     "data": {
      "text/plain": [
       "<py3Dmol.view at 0x11bc786a0>"
      ]
     },
     "execution_count": 13,
     "metadata": {},
     "output_type": "execute_result"
    }
   ],
   "source": [
    "butane[1].show()"
   ]
  },
  {
   "cell_type": "code",
   "execution_count": 14,
   "metadata": {},
   "outputs": [
    {
     "data": {
      "text/plain": [
       "['__add__',\n",
       " '__class__',\n",
       " '__contains__',\n",
       " '__delattr__',\n",
       " '__delitem__',\n",
       " '__dir__',\n",
       " '__doc__',\n",
       " '__eq__',\n",
       " '__format__',\n",
       " '__ge__',\n",
       " '__getattribute__',\n",
       " '__getitem__',\n",
       " '__gt__',\n",
       " '__hash__',\n",
       " '__iadd__',\n",
       " '__imul__',\n",
       " '__init__',\n",
       " '__init_subclass__',\n",
       " '__iter__',\n",
       " '__le__',\n",
       " '__len__',\n",
       " '__lt__',\n",
       " '__mul__',\n",
       " '__ne__',\n",
       " '__new__',\n",
       " '__reduce__',\n",
       " '__reduce_ex__',\n",
       " '__repr__',\n",
       " '__reversed__',\n",
       " '__rmul__',\n",
       " '__setattr__',\n",
       " '__setitem__',\n",
       " '__sizeof__',\n",
       " '__str__',\n",
       " '__subclasshook__',\n",
       " 'append',\n",
       " 'clear',\n",
       " 'copy',\n",
       " 'count',\n",
       " 'extend',\n",
       " 'index',\n",
       " 'insert',\n",
       " 'pop',\n",
       " 'remove',\n",
       " 'reverse',\n",
       " 'sort']"
      ]
     },
     "execution_count": 14,
     "metadata": {},
     "output_type": "execute_result"
    }
   ],
   "source": [
    "dir(butane)"
   ]
  },
  {
   "cell_type": "code",
   "execution_count": 16,
   "metadata": {},
   "outputs": [
    {
     "data": {
      "text/plain": [
       "['C', 'C', 'C', 'C', 'H', 'H', 'H', 'H', 'H', 'H', 'H', 'H', 'H', 'H']"
      ]
     },
     "execution_count": 16,
     "metadata": {},
     "output_type": "execute_result"
    }
   ],
   "source": [
    "butane[0].symbols"
   ]
  },
  {
   "cell_type": "code",
   "execution_count": 17,
   "metadata": {},
   "outputs": [
    {
     "data": {
      "text/plain": [
       "array([[ 0.60309252, -2.0666753 , -2.95631542],\n",
       "       [-0.54975128,  2.07257294,  2.96267825],\n",
       "       [ 0.17543623, -1.41965569, -0.1899598 ],\n",
       "       [-0.17535536,  1.41986451,  0.18990506],\n",
       "       [-0.98243014, -1.42706018, -4.12126516],\n",
       "       [ 2.32107194, -1.14665691, -3.64966894],\n",
       "       [ 0.81868895, -4.10783439, -3.21556669],\n",
       "       [ 1.07104045,  1.43010767,  4.07529687],\n",
       "       [-2.24715359,  1.16149057,  3.71618302],\n",
       "       [-0.73832413,  4.11600143,  3.22440978],\n",
       "       [ 1.79270627, -2.08396319,  0.92115557],\n",
       "       [-1.4961426 , -2.4339562 ,  0.49460988],\n",
       "       [-1.81551707,  2.07754179, -0.89074739],\n",
       "       [ 1.48034939,  2.43606453, -0.52991943]])"
      ]
     },
     "execution_count": 17,
     "metadata": {},
     "output_type": "execute_result"
    }
   ],
   "source": [
    "butane[0].geometry"
   ]
  },
  {
   "cell_type": "code",
   "execution_count": 21,
   "metadata": {},
   "outputs": [
    {
     "ename": "IndexError",
     "evalue": "only integers, slices (`:`), ellipsis (`...`), numpy.newaxis (`None`) and integer or boolean arrays are valid indices",
     "output_type": "error",
     "traceback": [
      "\u001b[0;31m---------------------------------------------------------------------------\u001b[0m",
      "\u001b[0;31mIndexError\u001b[0m                                Traceback (most recent call last)",
      "\u001b[0;32m<ipython-input-21-a21f769717c8>\u001b[0m in \u001b[0;36m<module>\u001b[0;34m\u001b[0m\n\u001b[1;32m      1\u001b[0m \u001b[0mcoords\u001b[0m \u001b[0;34m=\u001b[0m \u001b[0;34m{\u001b[0m\u001b[0;34m}\u001b[0m\u001b[0;34m\u001b[0m\u001b[0;34m\u001b[0m\u001b[0m\n\u001b[1;32m      2\u001b[0m \u001b[0;32mfor\u001b[0m \u001b[0mi\u001b[0m \u001b[0;32min\u001b[0m \u001b[0menumerate\u001b[0m\u001b[0;34m(\u001b[0m\u001b[0mbutane\u001b[0m\u001b[0;34m[\u001b[0m\u001b[0;36m0\u001b[0m\u001b[0;34m]\u001b[0m\u001b[0;34m.\u001b[0m\u001b[0msymbols\u001b[0m\u001b[0;34m)\u001b[0m\u001b[0;34m:\u001b[0m\u001b[0;34m\u001b[0m\u001b[0;34m\u001b[0m\u001b[0m\n\u001b[0;32m----> 3\u001b[0;31m     \u001b[0mcoords\u001b[0m\u001b[0;34m[\u001b[0m\u001b[0mi\u001b[0m\u001b[0;34m]\u001b[0m \u001b[0;34m=\u001b[0m \u001b[0mbutane\u001b[0m\u001b[0;34m[\u001b[0m\u001b[0;36m0\u001b[0m\u001b[0;34m]\u001b[0m\u001b[0;34m.\u001b[0m\u001b[0mgeometry\u001b[0m\u001b[0;34m[\u001b[0m\u001b[0mi\u001b[0m\u001b[0;34m]\u001b[0m\u001b[0;34m\u001b[0m\u001b[0;34m\u001b[0m\u001b[0m\n\u001b[0m\u001b[1;32m      4\u001b[0m \u001b[0mcoords\u001b[0m\u001b[0;34m\u001b[0m\u001b[0;34m\u001b[0m\u001b[0m\n",
      "\u001b[0;31mIndexError\u001b[0m: only integers, slices (`:`), ellipsis (`...`), numpy.newaxis (`None`) and integer or boolean arrays are valid indices"
     ]
    }
   ],
   "source": [
    "coords = {}\n",
    "for i in enumerate(butane[0].symbols):\n",
    "    coords[i] = butane[0].geometry[i]\n",
    "coords"
   ]
  },
  {
   "cell_type": "code",
   "execution_count": 18,
   "metadata": {},
   "outputs": [],
   "source": [
    "butane_geometries = [butane[0].geometry.copy(), butane[1].geometry.copy()]"
   ]
  },
  {
   "cell_type": "code",
   "execution_count": 37,
   "metadata": {},
   "outputs": [
    {
     "name": "stdout",
     "output_type": "stream",
     "text": [
      "[array([[ 0.60309252, -2.0666753 , -2.95631542],\n",
      "       [-0.54975128,  2.07257294,  2.96267825],\n",
      "       [ 0.17543623, -1.41965569, -0.1899598 ],\n",
      "       [-0.17535536,  1.41986451,  0.18990506],\n",
      "       [-0.98243014, -1.42706018, -4.12126516],\n",
      "       [ 2.32107194, -1.14665691, -3.64966894],\n",
      "       [ 0.81868895, -4.10783439, -3.21556669],\n",
      "       [ 1.07104045,  1.43010767,  4.07529687],\n",
      "       [-2.24715359,  1.16149057,  3.71618302],\n",
      "       [-0.73832413,  4.11600143,  3.22440978],\n",
      "       [ 1.79270627, -2.08396319,  0.92115557],\n",
      "       [-1.4961426 , -2.4339562 ,  0.49460988],\n",
      "       [-1.81551707,  2.07754179, -0.89074739],\n",
      "       [ 1.48034939,  2.43606453, -0.52991943]]), array([[-0.69390481, -2.34149626, -1.69148799],\n",
      "       [-1.52276705,  2.12200941,  1.41576994],\n",
      "       [ 1.67240752, -1.04497304, -0.64735584],\n",
      "       [ 1.23080507,  1.33319296,  1.00805961],\n",
      "       [-1.91853592, -3.01948807, -0.12936141],\n",
      "       [-1.76605429, -1.03734012, -2.93620015],\n",
      "       [-0.12310659, -4.00556366, -2.83563025],\n",
      "       [-2.59157782,  0.60554767,  2.39435231],\n",
      "       [-2.43936476,  2.58766899, -0.41251981],\n",
      "       [-1.57944138,  3.83705924,  2.62381983],\n",
      "       [ 2.89478004, -0.52016897, -2.27399626],\n",
      "       [ 2.74546053, -2.46112357,  0.47453866],\n",
      "       [ 2.2490306 ,  2.95672246,  0.14611927],\n",
      "       [ 2.09998041,  1.01579454,  2.89468766]])]\n"
     ]
    }
   ],
   "source": [
    "print(butane_geometries)"
   ]
  },
  {
   "cell_type": "code",
   "execution_count": 23,
   "metadata": {},
   "outputs": [],
   "source": [
    "def calculate_distance(rA, rB):\n",
    "    \"\"\"Calculate the distance between points A and B\"\"\"\n",
    "    dist_vec = (rA - rB)\n",
    "    distance = np.linalg.norm(dist_vec)\n",
    "    return distance"
   ]
  },
  {
   "cell_type": "code",
   "execution_count": 39,
   "metadata": {},
   "outputs": [
    {
     "name": "stdout",
     "output_type": "stream",
     "text": [
      "[ 0.60309252 -2.0666753  -2.95631542]\n"
     ]
    }
   ],
   "source": [
    "atom1 = butane_geometries[0][0]\n",
    "print(atom1)"
   ]
  },
  {
   "cell_type": "code",
   "execution_count": 40,
   "metadata": {},
   "outputs": [
    {
     "name": "stdout",
     "output_type": "stream",
     "text": [
      "[-0.54975128  2.07257294  2.96267825]\n"
     ]
    }
   ],
   "source": [
    "atom2 = butane_geometries[0][1]\n",
    "print(atom2)"
   ]
  },
  {
   "cell_type": "code",
   "execution_count": 31,
   "metadata": {},
   "outputs": [],
   "source": [
    "def build_bond_list(coordinates, max_bond=3, min_bond=0):\n",
    "    num_atoms = len(coordinates)\n",
    "    \n",
    "    bonds = {}\n",
    "    \n",
    "    for atom1 in range(num_atoms):\n",
    "        for atom2 in range(atom1, num_atoms):\n",
    "            distance = calculate_distance(coordinates[atom1], coordinates[atom2])\n",
    "            \n",
    "            if distance > min_bond and distance < max_bond:\n",
    "                bonds[(atom1, atom2)] = distance\n",
    "    \n",
    "    return bonds"
   ]
  },
  {
   "cell_type": "code",
   "execution_count": 51,
   "metadata": {},
   "outputs": [
    {
     "data": {
      "text/plain": [
       "{(0, 2): 2.873020656801253,\n",
       " (0, 4): 2.068839651551603,\n",
       " (0, 5): 2.068484041315794,\n",
       " (0, 6): 2.068821759435787,\n",
       " (1, 3): 2.873059651780396,\n",
       " (1, 7): 2.068247482474781,\n",
       " (1, 8): 2.0685780442929644,\n",
       " (1, 9): 2.0687346633381822,\n",
       " (2, 3): 2.8862132661474598,\n",
       " (2, 10): 2.0715801221019885,\n",
       " (2, 11): 2.0716218178677623,\n",
       " (3, 12): 2.0713472807014583,\n",
       " (3, 13): 2.071754810836534}"
      ]
     },
     "execution_count": 51,
     "metadata": {},
     "output_type": "execute_result"
    }
   ],
   "source": [
    "bond_list = build_bond_list(butane_geometries[0], max_bond=2.93)\n",
    "bond_list"
   ]
  },
  {
   "cell_type": "code",
   "execution_count": 42,
   "metadata": {},
   "outputs": [
    {
     "name": "stdout",
     "output_type": "stream",
     "text": [
      "7.314158248564329\n"
     ]
    }
   ],
   "source": [
    "measured_distance = calculate_distance(atom1, atom2)\n",
    "print(measured_distance)"
   ]
  },
  {
   "cell_type": "code",
   "execution_count": 43,
   "metadata": {},
   "outputs": [
    {
     "data": {
      "text/plain": [
       "7.31415824856433"
      ]
     },
     "execution_count": 43,
     "metadata": {},
     "output_type": "execute_result"
    }
   ],
   "source": [
    "butane[0].measure([0, 1])"
   ]
  },
  {
   "cell_type": "code",
   "execution_count": 45,
   "metadata": {},
   "outputs": [
    {
     "name": "stdout",
     "output_type": "stream",
     "text": [
      "4.120152166869724\n"
     ]
    }
   ],
   "source": [
    "# Use calculate_distance funciton to measure the distance between atoms 3 and 10 in the second butane molecule\n",
    "print(calculate_distance(butane_geometries[1][3], butane_geometries[1][10]))"
   ]
  },
  {
   "cell_type": "code",
   "execution_count": 47,
   "metadata": {},
   "outputs": [
    {
     "data": {
      "text/plain": [
       "4.120152166869724"
      ]
     },
     "execution_count": 47,
     "metadata": {},
     "output_type": "execute_result"
    }
   ],
   "source": [
    "butane[1].measure([3,10])"
   ]
  },
  {
   "cell_type": "code",
   "execution_count": 33,
   "metadata": {},
   "outputs": [],
   "source": [
    "bond_list = build_bond_list(butane_geometries[0])"
   ]
  },
  {
   "cell_type": "code",
   "execution_count": 34,
   "metadata": {},
   "outputs": [
    {
     "name": "stdout",
     "output_type": "stream",
     "text": [
      "{(0, 2): 2.873020656801253, (0, 4): 2.068839651551603, (0, 5): 2.068484041315794, (0, 6): 2.068821759435787, (1, 3): 2.873059651780396, (1, 7): 2.068247482474781, (1, 8): 2.0685780442929644, (1, 9): 2.0687346633381822, (2, 3): 2.8862132661474598, (2, 10): 2.0715801221019885, (2, 11): 2.0716218178677623, (3, 12): 2.0713472807014583, (3, 13): 2.071754810836534}\n"
     ]
    }
   ],
   "source": [
    "print(bond_list)"
   ]
  },
  {
   "cell_type": "code",
   "execution_count": 30,
   "metadata": {},
   "outputs": [
    {
     "data": {
      "text/plain": [
       "[(0, 2, 1.0),\n",
       " (0, 4, 1.0),\n",
       " (0, 5, 1.0),\n",
       " (0, 6, 1.0),\n",
       " (1, 3, 1.0),\n",
       " (1, 7, 1.0),\n",
       " (1, 8, 1.0),\n",
       " (1, 9, 1.0),\n",
       " (2, 3, 1.0),\n",
       " (2, 10, 1.0),\n",
       " (2, 11, 1.0),\n",
       " (3, 12, 1.0),\n",
       " (3, 13, 1.0)]"
      ]
     },
     "execution_count": 30,
     "metadata": {},
     "output_type": "execute_result"
    }
   ],
   "source": [
    "butane[0].connectivity"
   ]
  },
  {
   "cell_type": "code",
   "execution_count": 36,
   "metadata": {},
   "outputs": [],
   "source": [
    "import qcelemental\n",
    "\n",
    "angstrom_to_bohr = qcelemental.constants.conversion_factor(\"angstrom\", \"bohr\")"
   ]
  },
  {
   "cell_type": "code",
   "execution_count": 53,
   "metadata": {},
   "outputs": [
    {
     "data": {
      "text/plain": [
       "2.9290754944596338"
      ]
     },
     "execution_count": 53,
     "metadata": {},
     "output_type": "execute_result"
    }
   ],
   "source": [
    "max_length = 1.55*angstrom_to_bohr\n",
    "max_length"
   ]
  },
  {
   "cell_type": "code",
   "execution_count": null,
   "metadata": {},
   "outputs": [],
   "source": [
    "# Use qcportal to access a geometry optimizaiton calculation\n",
    "# Use query_procedures\n",
    "# id = 2658710"
   ]
  },
  {
   "cell_type": "code",
   "execution_count": 54,
   "metadata": {},
   "outputs": [
    {
     "data": {
      "text/plain": [
       "['__class__',\n",
       " '__delattr__',\n",
       " '__dict__',\n",
       " '__dir__',\n",
       " '__doc__',\n",
       " '__eq__',\n",
       " '__format__',\n",
       " '__ge__',\n",
       " '__getattribute__',\n",
       " '__gt__',\n",
       " '__hash__',\n",
       " '__init__',\n",
       " '__init_subclass__',\n",
       " '__le__',\n",
       " '__lt__',\n",
       " '__module__',\n",
       " '__ne__',\n",
       " '__new__',\n",
       " '__reduce__',\n",
       " '__reduce_ex__',\n",
       " '__repr__',\n",
       " '__setattr__',\n",
       " '__sizeof__',\n",
       " '__str__',\n",
       " '__subclasshook__',\n",
       " '__weakref__',\n",
       " '_automodel_request',\n",
       " '_headers',\n",
       " '_mock_network_error',\n",
       " '_repr_html_',\n",
       " '_request',\n",
       " '_verify',\n",
       " 'add_collection',\n",
       " 'add_compute',\n",
       " 'add_keywords',\n",
       " 'add_molecules',\n",
       " 'add_procedure',\n",
       " 'add_service',\n",
       " 'address',\n",
       " 'from_file',\n",
       " 'get_collection',\n",
       " 'list_collections',\n",
       " 'query_keywords',\n",
       " 'query_kvstore',\n",
       " 'query_molecules',\n",
       " 'query_procedures',\n",
       " 'query_results',\n",
       " 'query_services',\n",
       " 'query_tasks',\n",
       " 'server_info',\n",
       " 'server_information',\n",
       " 'server_name',\n",
       " 'username']"
      ]
     },
     "execution_count": 54,
     "metadata": {},
     "output_type": "execute_result"
    }
   ],
   "source": [
    "dir(client)"
   ]
  },
  {
   "cell_type": "code",
   "execution_count": 65,
   "metadata": {},
   "outputs": [],
   "source": [
    "calculation = client.query_procedures(id=['2658710'])"
   ]
  },
  {
   "cell_type": "code",
   "execution_count": 66,
   "metadata": {},
   "outputs": [
    {
     "data": {
      "text/plain": [
       "['__add__',\n",
       " '__class__',\n",
       " '__contains__',\n",
       " '__delattr__',\n",
       " '__delitem__',\n",
       " '__dir__',\n",
       " '__doc__',\n",
       " '__eq__',\n",
       " '__format__',\n",
       " '__ge__',\n",
       " '__getattribute__',\n",
       " '__getitem__',\n",
       " '__gt__',\n",
       " '__hash__',\n",
       " '__iadd__',\n",
       " '__imul__',\n",
       " '__init__',\n",
       " '__init_subclass__',\n",
       " '__iter__',\n",
       " '__le__',\n",
       " '__len__',\n",
       " '__lt__',\n",
       " '__mul__',\n",
       " '__ne__',\n",
       " '__new__',\n",
       " '__reduce__',\n",
       " '__reduce_ex__',\n",
       " '__repr__',\n",
       " '__reversed__',\n",
       " '__rmul__',\n",
       " '__setattr__',\n",
       " '__setitem__',\n",
       " '__sizeof__',\n",
       " '__str__',\n",
       " '__subclasshook__',\n",
       " 'append',\n",
       " 'clear',\n",
       " 'copy',\n",
       " 'count',\n",
       " 'extend',\n",
       " 'index',\n",
       " 'insert',\n",
       " 'pop',\n",
       " 'remove',\n",
       " 'reverse',\n",
       " 'sort']"
      ]
     },
     "execution_count": 66,
     "metadata": {},
     "output_type": "execute_result"
    }
   ],
   "source": [
    "dir(calculation)"
   ]
  },
  {
   "cell_type": "code",
   "execution_count": 67,
   "metadata": {},
   "outputs": [],
   "source": [
    "optimization = calculation[0]"
   ]
  },
  {
   "cell_type": "code",
   "execution_count": 71,
   "metadata": {},
   "outputs": [
    {
     "data": {
      "application/3dmoljs_load.v0": "<div id=\"3dmolviewer_156389461065925\"  style=\"position: relative; width: 400px; height: 400px\">\n        <p id=\"3dmolwarning_156389461065925\" style=\"background-color:#ffcccc;color:black\">You appear to be running in JupyterLab (or JavaScript failed to load for some other reason).  You need to install the 3dmol extension: <br>\n        <tt>jupyter labextension install jupyterlab_3dmol</tt></p>\n        </div>\n<script>\n\nvar loadScriptAsync = function(uri){\n  return new Promise((resolve, reject) => {\n    var tag = document.createElement('script');\n    tag.src = uri;\n    tag.async = true;\n    tag.onload = () => {\n      resolve();\n    };\n  var firstScriptTag = document.getElementsByTagName('script')[0];\n  firstScriptTag.parentNode.insertBefore(tag, firstScriptTag);\n});\n};\n\nif(typeof $3Dmolpromise === 'undefined') {\n$3Dmolpromise = null;\n  $3Dmolpromise = loadScriptAsync('https://3dmol.csb.pitt.edu/build/3Dmol.js');\n}\n\nvar viewer_156389461065925 = null;\nvar warn = document.getElementById(\"3dmolwarning_156389461065925\");\nif(warn) {\n    warn.parentNode.removeChild(warn);\n}\n$3Dmolpromise.then(function() {\nviewer_156389461065925 = $3Dmol.createViewer($(\"#3dmolviewer_156389461065925\"),{backgroundColor:\"white\"});\n\tviewer_156389461065925.addModel(\"72\\nC54H18\\nC                     1.219221001901    -4.550194001216    -2.133023000369\\nC                     1.219221001901    -4.550194001216    -0.712023002632\\nC                     1.219221001901     4.550194001216    -2.133023000369\\nC                     1.219221001901     4.550194001216    -0.712023002632\\nC                     2.355354000793    -4.079591998090    -4.266046000738\\nC                     2.355354000793    -4.079591998090    -2.845045997709\\nC                     2.355354000793    -4.079591998090     0.000000000000\\nC                     2.355354000793    -4.079591998090     1.420999997737\\nC                     2.355354000793     4.079591998090    -4.266046000738\\nC                     2.355354000793     4.079591998090    -2.845045997709\\nC                     2.355354000793     4.079591998090     0.000000000000\\nC                     2.355354000793     4.079591998090     1.420999997737\\nC                     3.330972999315    -3.330972999315    -6.399070001252\\nC                     3.330972999315    -3.330972999315    -4.978069998223\\nC                     3.330972999315    -3.330972999315    -2.133023000369\\nC                     3.330972999315    -3.330972999315    -0.712023002632\\nC                     3.330972999315    -3.330972999315     2.133023000369\\nC                     3.330972999315    -3.330972999315     3.554022998107\\nC                     3.330972999315     3.330972999315    -6.399070001252\\nC                     3.330972999315     3.330972999315    -4.978069998223\\nC                     3.330972999315     3.330972999315    -2.133023000369\\nC                     3.330972999315     3.330972999315    -0.712023002632\\nC                     3.330972999315     3.330972999315     2.133023000369\\nC                     3.330972999315     3.330972999315     3.554022998107\\nC                     4.079591998090    -2.355354000793    -7.111092998592\\nC                     4.079591998090    -2.355354000793    -4.266046000738\\nC                     4.079591998090    -2.355354000793    -2.845045997709\\nC                     4.079591998090    -2.355354000793     0.000000000000\\nC                     4.079591998090    -2.355354000793     1.420999997737\\nC                     4.079591998090    -2.355354000793     4.266046000738\\nC                     4.079591998090     2.355354000793    -7.111092998592\\nC                     4.079591998090     2.355354000793    -4.266046000738\\nC                     4.079591998090     2.355354000793    -2.845045997709\\nC                     4.079591998090     2.355354000793     0.000000000000\\nC                     4.079591998090     2.355354000793     1.420999997737\\nC                     4.079591998090     2.355354000793     4.266046000738\\nC                     4.550194001216    -1.219221001901    -6.399070001252\\nC                     4.550194001216    -1.219221001901    -4.978069998223\\nC                     4.550194001216    -1.219221001901    -2.133023000369\\nC                     4.550194001216    -1.219221001901    -0.712023002632\\nC                     4.550194001216    -1.219221001901     2.133023000369\\nC                     4.550194001216    -1.219221001901     3.554022998107\\nC                     4.550194001216     1.219221001901    -6.399070001252\\nC                     4.550194001216     1.219221001901    -4.978069998223\\nC                     4.550194001216     1.219221001901    -2.133023000369\\nC                     4.550194001216     1.219221001901    -0.712023002632\\nC                     4.550194001216     1.219221001901     2.133023000369\\nC                     4.550194001216     1.219221001901     3.554022998107\\nC                     4.710707001441     0.000000000000    -7.111092998592\\nC                     4.710707001441     0.000000000000    -4.266046000738\\nC                     4.710707001441     0.000000000000    -2.845045997709\\nC                     4.710707001441     0.000000000000     0.000000000000\\nC                     4.710707001441     0.000000000000     1.420999997737\\nC                     4.710707001441     0.000000000000     4.266046000738\\nH                     0.288683440765    -4.672701218998    -2.676455361369\\nH                     0.288683440765    -4.672701218998    -0.168590641632\\nH                     0.288683440765     4.672701218998    -2.676455361369\\nH                     0.288683440765     4.672701218998    -0.168590641632\\nH                     1.488231459635    -4.438766150819    -4.809478912082\\nH                     1.488231147420    -4.438766277821     1.964432337570\\nH                     1.488231459635     4.438766150819    -4.809478912082\\nH                     1.488231147420     4.438766277821     1.964432337570\\nH                     2.586357829400    -3.902336471225    -6.942502547464\\nH                     2.586357829400    -3.902336471225     4.097455549610\\nH                     2.586357829400     3.902336471225    -6.942502547464\\nH                     2.586357829400     3.902336471225     4.097455549610\\nH                     4.079591998090    -2.355354000793    -8.195632949853\\nH                     4.079591998090    -2.355354000793     5.350585951999\\nH                     4.079591998090     2.355354000793    -8.195632949853\\nH                     4.079591998090     2.355354000793     5.350585951999\\nH                     4.710707001441     0.000000000000    -8.195632949853\\nH                     4.710707001441     0.000000000000     5.350585951999\\n\",\"xyz\");\n\tviewer_156389461065925.setStyle({\"stick\": {\"radius\": 0.2}, \"sphere\": {\"scale\": 0.3}});\n\tviewer_156389461065925.zoomTo();\nviewer_156389461065925.render();\n});\n</script>",
      "text/html": [
       "<div id=\"3dmolviewer_156389461065925\"  style=\"position: relative; width: 400px; height: 400px\">\n",
       "        <p id=\"3dmolwarning_156389461065925\" style=\"background-color:#ffcccc;color:black\">You appear to be running in JupyterLab (or JavaScript failed to load for some other reason).  You need to install the 3dmol extension: <br>\n",
       "        <tt>jupyter labextension install jupyterlab_3dmol</tt></p>\n",
       "        </div>\n",
       "<script>\n",
       "\n",
       "var loadScriptAsync = function(uri){\n",
       "  return new Promise((resolve, reject) => {\n",
       "    var tag = document.createElement('script');\n",
       "    tag.src = uri;\n",
       "    tag.async = true;\n",
       "    tag.onload = () => {\n",
       "      resolve();\n",
       "    };\n",
       "  var firstScriptTag = document.getElementsByTagName('script')[0];\n",
       "  firstScriptTag.parentNode.insertBefore(tag, firstScriptTag);\n",
       "});\n",
       "};\n",
       "\n",
       "if(typeof $3Dmolpromise === 'undefined') {\n",
       "$3Dmolpromise = null;\n",
       "  $3Dmolpromise = loadScriptAsync('https://3dmol.csb.pitt.edu/build/3Dmol.js');\n",
       "}\n",
       "\n",
       "var viewer_156389461065925 = null;\n",
       "var warn = document.getElementById(\"3dmolwarning_156389461065925\");\n",
       "if(warn) {\n",
       "    warn.parentNode.removeChild(warn);\n",
       "}\n",
       "$3Dmolpromise.then(function() {\n",
       "viewer_156389461065925 = $3Dmol.createViewer($(\"#3dmolviewer_156389461065925\"),{backgroundColor:\"white\"});\n",
       "\tviewer_156389461065925.addModel(\"72\\nC54H18\\nC                     1.219221001901    -4.550194001216    -2.133023000369\\nC                     1.219221001901    -4.550194001216    -0.712023002632\\nC                     1.219221001901     4.550194001216    -2.133023000369\\nC                     1.219221001901     4.550194001216    -0.712023002632\\nC                     2.355354000793    -4.079591998090    -4.266046000738\\nC                     2.355354000793    -4.079591998090    -2.845045997709\\nC                     2.355354000793    -4.079591998090     0.000000000000\\nC                     2.355354000793    -4.079591998090     1.420999997737\\nC                     2.355354000793     4.079591998090    -4.266046000738\\nC                     2.355354000793     4.079591998090    -2.845045997709\\nC                     2.355354000793     4.079591998090     0.000000000000\\nC                     2.355354000793     4.079591998090     1.420999997737\\nC                     3.330972999315    -3.330972999315    -6.399070001252\\nC                     3.330972999315    -3.330972999315    -4.978069998223\\nC                     3.330972999315    -3.330972999315    -2.133023000369\\nC                     3.330972999315    -3.330972999315    -0.712023002632\\nC                     3.330972999315    -3.330972999315     2.133023000369\\nC                     3.330972999315    -3.330972999315     3.554022998107\\nC                     3.330972999315     3.330972999315    -6.399070001252\\nC                     3.330972999315     3.330972999315    -4.978069998223\\nC                     3.330972999315     3.330972999315    -2.133023000369\\nC                     3.330972999315     3.330972999315    -0.712023002632\\nC                     3.330972999315     3.330972999315     2.133023000369\\nC                     3.330972999315     3.330972999315     3.554022998107\\nC                     4.079591998090    -2.355354000793    -7.111092998592\\nC                     4.079591998090    -2.355354000793    -4.266046000738\\nC                     4.079591998090    -2.355354000793    -2.845045997709\\nC                     4.079591998090    -2.355354000793     0.000000000000\\nC                     4.079591998090    -2.355354000793     1.420999997737\\nC                     4.079591998090    -2.355354000793     4.266046000738\\nC                     4.079591998090     2.355354000793    -7.111092998592\\nC                     4.079591998090     2.355354000793    -4.266046000738\\nC                     4.079591998090     2.355354000793    -2.845045997709\\nC                     4.079591998090     2.355354000793     0.000000000000\\nC                     4.079591998090     2.355354000793     1.420999997737\\nC                     4.079591998090     2.355354000793     4.266046000738\\nC                     4.550194001216    -1.219221001901    -6.399070001252\\nC                     4.550194001216    -1.219221001901    -4.978069998223\\nC                     4.550194001216    -1.219221001901    -2.133023000369\\nC                     4.550194001216    -1.219221001901    -0.712023002632\\nC                     4.550194001216    -1.219221001901     2.133023000369\\nC                     4.550194001216    -1.219221001901     3.554022998107\\nC                     4.550194001216     1.219221001901    -6.399070001252\\nC                     4.550194001216     1.219221001901    -4.978069998223\\nC                     4.550194001216     1.219221001901    -2.133023000369\\nC                     4.550194001216     1.219221001901    -0.712023002632\\nC                     4.550194001216     1.219221001901     2.133023000369\\nC                     4.550194001216     1.219221001901     3.554022998107\\nC                     4.710707001441     0.000000000000    -7.111092998592\\nC                     4.710707001441     0.000000000000    -4.266046000738\\nC                     4.710707001441     0.000000000000    -2.845045997709\\nC                     4.710707001441     0.000000000000     0.000000000000\\nC                     4.710707001441     0.000000000000     1.420999997737\\nC                     4.710707001441     0.000000000000     4.266046000738\\nH                     0.288683440765    -4.672701218998    -2.676455361369\\nH                     0.288683440765    -4.672701218998    -0.168590641632\\nH                     0.288683440765     4.672701218998    -2.676455361369\\nH                     0.288683440765     4.672701218998    -0.168590641632\\nH                     1.488231459635    -4.438766150819    -4.809478912082\\nH                     1.488231147420    -4.438766277821     1.964432337570\\nH                     1.488231459635     4.438766150819    -4.809478912082\\nH                     1.488231147420     4.438766277821     1.964432337570\\nH                     2.586357829400    -3.902336471225    -6.942502547464\\nH                     2.586357829400    -3.902336471225     4.097455549610\\nH                     2.586357829400     3.902336471225    -6.942502547464\\nH                     2.586357829400     3.902336471225     4.097455549610\\nH                     4.079591998090    -2.355354000793    -8.195632949853\\nH                     4.079591998090    -2.355354000793     5.350585951999\\nH                     4.079591998090     2.355354000793    -8.195632949853\\nH                     4.079591998090     2.355354000793     5.350585951999\\nH                     4.710707001441     0.000000000000    -8.195632949853\\nH                     4.710707001441     0.000000000000     5.350585951999\\n\",\"xyz\");\n",
       "\tviewer_156389461065925.setStyle({\"stick\": {\"radius\": 0.2}, \"sphere\": {\"scale\": 0.3}});\n",
       "\tviewer_156389461065925.zoomTo();\n",
       "viewer_156389461065925.render();\n",
       "});\n",
       "</script>"
      ]
     },
     "metadata": {},
     "output_type": "display_data"
    },
    {
     "data": {
      "text/plain": [
       "<py3Dmol.view at 0x11cb35278>"
      ]
     },
     "execution_count": 71,
     "metadata": {},
     "output_type": "execute_result"
    }
   ],
   "source": [
    "initial = optimization.get_initial_molecule()\n",
    "initial.show()"
   ]
  },
  {
   "cell_type": "code",
   "execution_count": 72,
   "metadata": {},
   "outputs": [
    {
     "data": {
      "application/3dmoljs_load.v0": "<div id=\"3dmolviewer_156389466501696\"  style=\"position: relative; width: 400px; height: 400px\">\n        <p id=\"3dmolwarning_156389466501696\" style=\"background-color:#ffcccc;color:black\">You appear to be running in JupyterLab (or JavaScript failed to load for some other reason).  You need to install the 3dmol extension: <br>\n        <tt>jupyter labextension install jupyterlab_3dmol</tt></p>\n        </div>\n<script>\n\nvar loadScriptAsync = function(uri){\n  return new Promise((resolve, reject) => {\n    var tag = document.createElement('script');\n    tag.src = uri;\n    tag.async = true;\n    tag.onload = () => {\n      resolve();\n    };\n  var firstScriptTag = document.getElementsByTagName('script')[0];\n  firstScriptTag.parentNode.insertBefore(tag, firstScriptTag);\n});\n};\n\nif(typeof $3Dmolpromise === 'undefined') {\n$3Dmolpromise = null;\n  $3Dmolpromise = loadScriptAsync('https://3dmol.csb.pitt.edu/build/3Dmol.js');\n}\n\nvar viewer_156389466501696 = null;\nvar warn = document.getElementById(\"3dmolwarning_156389466501696\");\nif(warn) {\n    warn.parentNode.removeChild(warn);\n}\n$3Dmolpromise.then(function() {\nviewer_156389466501696 = $3Dmol.createViewer($(\"#3dmolviewer_156389466501696\"),{backgroundColor:\"white\"});\n\tviewer_156389466501696.addModel(\"72\\nC54H18\\nC                     2.903604033453    -6.112482329788    -2.100940515408\\nC                     2.903603382565    -6.112487304054    -0.744107403214\\nC                     2.903596069336     6.112511984879    -2.100938033567\\nC                     2.903596667306     6.112507587416    -0.744102465991\\nC                     3.136053574199    -4.883593784133    -4.251905914701\\nC                     3.094346715762    -4.901845079670    -2.857595519928\\nC                     3.094346244794    -4.901850524904     0.012547606598\\nC                     3.136053314903    -4.883599001821     1.406858858638\\nC                     3.136048917440     4.883603912585    -4.251916942755\\nC                     3.094339847042     4.901880291122    -2.857602991911\\nC                     3.094340503222     4.901874110332     0.012560248641\\nC                     3.136049510118     4.883598917152     1.406873167590\\nC                     3.394645977308    -3.657952650851    -6.402321604708\\nC                     3.305058894969    -3.696675976424    -4.965192756557\\nC                     3.244196885152    -3.681150049357    -2.134435247342\\nC                     3.244196472393    -3.681155536925    -0.710614264104\\nC                     3.305058720341    -3.696684210421     2.120150600675\\nC                     3.394647019788    -3.657948168720     3.557280274342\\nC                     3.394645098874     3.657915402067    -6.402351513804\\nC                     3.305054756803     3.696694725172    -4.965221093997\\nC                     3.244191889719     3.681190118655    -2.134434236613\\nC                     3.244192498273     3.681183837322    -0.710607638805\\nC                     3.305055450026     3.696686337713     2.120171116875\\nC                     3.394644987747     3.657920709714     3.557301145091\\nC                     3.524256092076    -2.487901551798    -7.077124981145\\nC                     3.388666317162    -2.459158958219    -4.260200068965\\nC                     3.368221169328    -2.456039649066    -2.840840076072\\nC                     3.368220878281    -2.456048248196    -0.004206440231\\nC                     3.388666089616    -2.459169414761     1.415155076692\\nC                     3.524256965218    -2.487895963687     4.232082788220\\nC                     3.524255107806     2.487850898956    -7.077141517933\\nC                     3.388663512523     2.459188676811    -4.260215658525\\nC                     3.368217973098     2.456082904011    -2.840847860268\\nC                     3.368218475816     2.456073357654    -0.004197581805\\nC                     3.388664046992     2.459177987431     1.415168443709\\nC                     3.524254938470     2.487857090329     4.232090074990\\nC                     3.542570200948    -1.219005732612    -6.395645753732\\nC                     3.475755222683    -1.228237890524    -4.970401987603\\nC                     3.430567082005    -1.228942601107    -2.131991554609\\nC                     3.430566896793    -1.228951142027    -0.713057237156\\nC                     3.475755317935    -1.228248775699     2.125359625341\\nC                     3.542570883587    -1.219000657803     3.550604449824\\nC                     3.542570624290     1.218954391839    -6.395668630062\\nC                     3.475754026742     1.228263481534    -4.970422429718\\nC                     3.430565468014     1.228989830173    -2.131990358668\\nC                     3.430565759062     1.228980892370    -0.713052998446\\nC                     3.475754375999     1.228252421730     2.125372817729\\nC                     3.542570597831     1.218959440190     3.550617933260\\nC                     3.589719842793    -0.000035147950    -7.072735233928\\nC                     3.474337885025     0.000020886625    -4.259012955145\\nC                     3.454492755355     0.000024950705    -2.840866058673\\nC                     3.454492877066     0.000012366871    -0.004179970787\\nC                     3.474338075529     0.000007260311     1.413967179690\\nC                     3.589720234384    -0.000026088436     4.227689553725\\nH                     2.754263255338    -7.040868584476    -2.642719261126\\nH                     2.754262371612    -7.040874913436    -0.202331869602\\nH                     2.754253121594     7.040900557363    -2.642711106505\\nH                     2.754253973569     7.040894381865    -0.202325625311\\nH                     3.023176751931    -5.816498889402    -4.796678967331\\nH                     3.023176122210    -5.816504429888     1.951630186150\\nH                     3.023170380637     5.816506133838    -4.796692419016\\nH                     3.023171222029     5.816500365807     1.951650501263\\nH                     3.354201333521    -4.595760440099    -6.946996256836\\nH                     3.354203053347    -4.595753105703     4.101959165179\\nH                     3.354201846823     4.595710247640    -6.947048449584\\nH                     3.354201481691     4.595718031837     4.101994244336\\nH                     3.628610462449    -2.494167650277    -8.157316857894\\nH                     3.628611483761    -2.494160733931     5.312275024810\\nH                     3.628609255925     2.494108869272    -8.157333071884\\nH                     3.628609203008     2.494116283045     5.312281745360\\nH                     3.698094795777    -0.000047170857    -8.153506247508\\nH                     3.698095055074    -0.000032935990     5.308459895251\\n\",\"xyz\");\n\tviewer_156389466501696.setStyle({\"stick\": {\"radius\": 0.2}, \"sphere\": {\"scale\": 0.3}});\n\tviewer_156389466501696.zoomTo();\nviewer_156389466501696.render();\n});\n</script>",
      "text/html": [
       "<div id=\"3dmolviewer_156389466501696\"  style=\"position: relative; width: 400px; height: 400px\">\n",
       "        <p id=\"3dmolwarning_156389466501696\" style=\"background-color:#ffcccc;color:black\">You appear to be running in JupyterLab (or JavaScript failed to load for some other reason).  You need to install the 3dmol extension: <br>\n",
       "        <tt>jupyter labextension install jupyterlab_3dmol</tt></p>\n",
       "        </div>\n",
       "<script>\n",
       "\n",
       "var loadScriptAsync = function(uri){\n",
       "  return new Promise((resolve, reject) => {\n",
       "    var tag = document.createElement('script');\n",
       "    tag.src = uri;\n",
       "    tag.async = true;\n",
       "    tag.onload = () => {\n",
       "      resolve();\n",
       "    };\n",
       "  var firstScriptTag = document.getElementsByTagName('script')[0];\n",
       "  firstScriptTag.parentNode.insertBefore(tag, firstScriptTag);\n",
       "});\n",
       "};\n",
       "\n",
       "if(typeof $3Dmolpromise === 'undefined') {\n",
       "$3Dmolpromise = null;\n",
       "  $3Dmolpromise = loadScriptAsync('https://3dmol.csb.pitt.edu/build/3Dmol.js');\n",
       "}\n",
       "\n",
       "var viewer_156389466501696 = null;\n",
       "var warn = document.getElementById(\"3dmolwarning_156389466501696\");\n",
       "if(warn) {\n",
       "    warn.parentNode.removeChild(warn);\n",
       "}\n",
       "$3Dmolpromise.then(function() {\n",
       "viewer_156389466501696 = $3Dmol.createViewer($(\"#3dmolviewer_156389466501696\"),{backgroundColor:\"white\"});\n",
       "\tviewer_156389466501696.addModel(\"72\\nC54H18\\nC                     2.903604033453    -6.112482329788    -2.100940515408\\nC                     2.903603382565    -6.112487304054    -0.744107403214\\nC                     2.903596069336     6.112511984879    -2.100938033567\\nC                     2.903596667306     6.112507587416    -0.744102465991\\nC                     3.136053574199    -4.883593784133    -4.251905914701\\nC                     3.094346715762    -4.901845079670    -2.857595519928\\nC                     3.094346244794    -4.901850524904     0.012547606598\\nC                     3.136053314903    -4.883599001821     1.406858858638\\nC                     3.136048917440     4.883603912585    -4.251916942755\\nC                     3.094339847042     4.901880291122    -2.857602991911\\nC                     3.094340503222     4.901874110332     0.012560248641\\nC                     3.136049510118     4.883598917152     1.406873167590\\nC                     3.394645977308    -3.657952650851    -6.402321604708\\nC                     3.305058894969    -3.696675976424    -4.965192756557\\nC                     3.244196885152    -3.681150049357    -2.134435247342\\nC                     3.244196472393    -3.681155536925    -0.710614264104\\nC                     3.305058720341    -3.696684210421     2.120150600675\\nC                     3.394647019788    -3.657948168720     3.557280274342\\nC                     3.394645098874     3.657915402067    -6.402351513804\\nC                     3.305054756803     3.696694725172    -4.965221093997\\nC                     3.244191889719     3.681190118655    -2.134434236613\\nC                     3.244192498273     3.681183837322    -0.710607638805\\nC                     3.305055450026     3.696686337713     2.120171116875\\nC                     3.394644987747     3.657920709714     3.557301145091\\nC                     3.524256092076    -2.487901551798    -7.077124981145\\nC                     3.388666317162    -2.459158958219    -4.260200068965\\nC                     3.368221169328    -2.456039649066    -2.840840076072\\nC                     3.368220878281    -2.456048248196    -0.004206440231\\nC                     3.388666089616    -2.459169414761     1.415155076692\\nC                     3.524256965218    -2.487895963687     4.232082788220\\nC                     3.524255107806     2.487850898956    -7.077141517933\\nC                     3.388663512523     2.459188676811    -4.260215658525\\nC                     3.368217973098     2.456082904011    -2.840847860268\\nC                     3.368218475816     2.456073357654    -0.004197581805\\nC                     3.388664046992     2.459177987431     1.415168443709\\nC                     3.524254938470     2.487857090329     4.232090074990\\nC                     3.542570200948    -1.219005732612    -6.395645753732\\nC                     3.475755222683    -1.228237890524    -4.970401987603\\nC                     3.430567082005    -1.228942601107    -2.131991554609\\nC                     3.430566896793    -1.228951142027    -0.713057237156\\nC                     3.475755317935    -1.228248775699     2.125359625341\\nC                     3.542570883587    -1.219000657803     3.550604449824\\nC                     3.542570624290     1.218954391839    -6.395668630062\\nC                     3.475754026742     1.228263481534    -4.970422429718\\nC                     3.430565468014     1.228989830173    -2.131990358668\\nC                     3.430565759062     1.228980892370    -0.713052998446\\nC                     3.475754375999     1.228252421730     2.125372817729\\nC                     3.542570597831     1.218959440190     3.550617933260\\nC                     3.589719842793    -0.000035147950    -7.072735233928\\nC                     3.474337885025     0.000020886625    -4.259012955145\\nC                     3.454492755355     0.000024950705    -2.840866058673\\nC                     3.454492877066     0.000012366871    -0.004179970787\\nC                     3.474338075529     0.000007260311     1.413967179690\\nC                     3.589720234384    -0.000026088436     4.227689553725\\nH                     2.754263255338    -7.040868584476    -2.642719261126\\nH                     2.754262371612    -7.040874913436    -0.202331869602\\nH                     2.754253121594     7.040900557363    -2.642711106505\\nH                     2.754253973569     7.040894381865    -0.202325625311\\nH                     3.023176751931    -5.816498889402    -4.796678967331\\nH                     3.023176122210    -5.816504429888     1.951630186150\\nH                     3.023170380637     5.816506133838    -4.796692419016\\nH                     3.023171222029     5.816500365807     1.951650501263\\nH                     3.354201333521    -4.595760440099    -6.946996256836\\nH                     3.354203053347    -4.595753105703     4.101959165179\\nH                     3.354201846823     4.595710247640    -6.947048449584\\nH                     3.354201481691     4.595718031837     4.101994244336\\nH                     3.628610462449    -2.494167650277    -8.157316857894\\nH                     3.628611483761    -2.494160733931     5.312275024810\\nH                     3.628609255925     2.494108869272    -8.157333071884\\nH                     3.628609203008     2.494116283045     5.312281745360\\nH                     3.698094795777    -0.000047170857    -8.153506247508\\nH                     3.698095055074    -0.000032935990     5.308459895251\\n\",\"xyz\");\n",
       "\tviewer_156389466501696.setStyle({\"stick\": {\"radius\": 0.2}, \"sphere\": {\"scale\": 0.3}});\n",
       "\tviewer_156389466501696.zoomTo();\n",
       "viewer_156389466501696.render();\n",
       "});\n",
       "</script>"
      ]
     },
     "metadata": {},
     "output_type": "display_data"
    },
    {
     "data": {
      "text/plain": [
       "<py3Dmol.view at 0x11d82b780>"
      ]
     },
     "execution_count": 72,
     "metadata": {},
     "output_type": "execute_result"
    }
   ],
   "source": [
    "final = optimization.get_final_molecule()\n",
    "final.show()"
   ]
  },
  {
   "cell_type": "code",
   "execution_count": 73,
   "metadata": {},
   "outputs": [],
   "source": [
    "initial.connectivity"
   ]
  },
  {
   "cell_type": "code",
   "execution_count": 79,
   "metadata": {},
   "outputs": [],
   "source": [
    "#max bond length is 2.93\n",
    "\n",
    "final_bonds = build_bond_list(final.geometry.copy(), max_bond=2.93)\n",
    "initial_bonds = build_bond_list(initial.geometry.copy(), max_bond=2.93)"
   ]
  },
  {
   "cell_type": "code",
   "execution_count": 83,
   "metadata": {},
   "outputs": [
    {
     "data": {
      "text/plain": [
       "{(0, 1): -0.12125783998247419,\n",
       " (0, 5): 0.03652933845980799,\n",
       " (0, 54): 0.0013072821258468537,\n",
       " (1, 6): 0.0365286356592871,\n",
       " (1, 55): 0.0013065023782292684,\n",
       " (2, 3): -0.12125319998628425,\n",
       " (2, 9): 0.036530668675503364,\n",
       " (2, 56): 0.0013062416111879749,\n",
       " (3, 10): 0.0365312833547744,\n",
       " (3, 57): 0.0013068556466429015,\n",
       " (4, 5): -0.04903193300734543,\n",
       " (4, 13): -0.0490720625963279,\n",
       " (4, 58): 0.003137346014596698,\n",
       " (5, 14): 0.010798420718752144,\n",
       " (6, 7): -0.04903028628599815,\n",
       " (6, 15): 0.01079988956621758,\n",
       " (7, 16): -0.04907121615054244,\n",
       " (7, 59): 0.0031362976027144995,\n",
       " (8, 9): -0.049024471064973874,\n",
       " (8, 19): -0.04906907865232091,\n",
       " (8, 60): 0.003135298936773445,\n",
       " (9, 20): 0.010799063343710724,\n",
       " (10, 11): -0.04902644295843839,\n",
       " (10, 21): 0.010798380165098376,\n",
       " (11, 22): -0.0490686525226276,\n",
       " (11, 61): 0.003135746517670235,\n",
       " (12, 13): 0.03673448192571094,\n",
       " (12, 24): -0.12113026442271035,\n",
       " (12, 62): 0.001361072035932498,\n",
       " (13, 25): 0.010758433401821588,\n",
       " (14, 15): 0.005330890020097456,\n",
       " (14, 26): -0.0026306061759662214,\n",
       " (15, 27): -0.002632849027812245,\n",
       " (16, 17): 0.03673683749261869,\n",
       " (16, 28): 0.010758375090764716,\n",
       " (17, 29): -0.1211293084167182,\n",
       " (17, 63): 0.0013603817663279116,\n",
       " (18, 19): 0.0367406750349919,\n",
       " (18, 30): -0.12112100839360984,\n",
       " (18, 64): 0.0013609722727370155,\n",
       " (19, 31): 0.010752503953163295,\n",
       " (20, 21): 0.005341500026428303,\n",
       " (20, 32): -0.002627234082538621,\n",
       " (21, 33): -0.002625285809558786,\n",
       " (22, 23): 0.0367391555844101,\n",
       " (22, 34): 0.010754622084423904,\n",
       " (23, 35): -0.12112347347945551,\n",
       " (23, 65): 0.0013613904412626,\n",
       " (24, 36): 0.036722082651104326,\n",
       " (24, 66): 0.0013209254115045255,\n",
       " (25, 26): -0.00281444395437358,\n",
       " (25, 37): 0.005244689677597059,\n",
       " (26, 38): -0.004738989949032213,\n",
       " (27, 28): -0.002811544816359035,\n",
       " (27, 39): -0.004736742214307643,\n",
       " (28, 40): 0.005247447840868169,\n",
       " (29, 41): 0.03672042375745255,\n",
       " (29, 67): 0.0013216146822601083,\n",
       " (30, 42): 0.03671759385635465,\n",
       " (30, 68): 0.0013201892319543163,\n",
       " (31, 32): -0.0027997409503348614,\n",
       " (31, 43): 0.0052561932376380405,\n",
       " (32, 44): -0.0047368749095926255,\n",
       " (33, 34): -0.002803084455640814,\n",
       " (33, 45): -0.004739861247106347,\n",
       " (34, 46): 0.005255459388454398,\n",
       " (35, 47): 0.03671882797980164,\n",
       " (35, 69): 0.0013204426853357099,\n",
       " (36, 37): 0.011033929656457886,\n",
       " (36, 48): -0.04876883331512172,\n",
       " (37, 49): -0.0030247720650371512,\n",
       " (38, 39): -0.003903569951401842,\n",
       " (38, 50): -0.0038622070593614666,\n",
       " (39, 51): -0.0038662115534449093,\n",
       " (40, 41): 0.011036184713521635,\n",
       " (40, 52): -0.0030250799853392962,\n",
       " (41, 53): -0.04876629142476974,\n",
       " (42, 43): 0.011039612384856845,\n",
       " (42, 48): -0.04875854367197974,\n",
       " (43, 49): -0.003031874903509202,\n",
       " (44, 45): -0.0038978199467494257,\n",
       " (44, 50): -0.0038654004268092734,\n",
       " (45, 51): -0.0038619662115921827,\n",
       " (46, 47): 0.011037343002595179,\n",
       " (46, 52): -0.003030369477476036,\n",
       " (47, 53): -0.04876054414365427,\n",
       " (48, 70): 0.0031202264385155054,\n",
       " (49, 50): -0.005129207845958383,\n",
       " (51, 52): -0.005128716067575478,\n",
       " (53, 71): 0.003118937747055295}"
      ]
     },
     "execution_count": 83,
     "metadata": {},
     "output_type": "execute_result"
    }
   ],
   "source": [
    "# Compare the two dictionaries initial_bonds and final_bonds to find the change in bond length\n",
    "\n",
    "bond_change = {}\n",
    "for i in final_bonds:\n",
    "    bond_change[i] = (final_bonds[i] - initial_bonds[i])\n",
    "bond_change"
   ]
  },
  {
   "cell_type": "code",
   "execution_count": null,
   "metadata": {},
   "outputs": [],
   "source": []
  }
 ],
 "metadata": {
  "kernelspec": {
   "display_name": "Python 3",
   "language": "python",
   "name": "python3"
  },
  "language_info": {
   "codemirror_mode": {
    "name": "ipython",
    "version": 3
   },
   "file_extension": ".py",
   "mimetype": "text/x-python",
   "name": "python",
   "nbconvert_exporter": "python",
   "pygments_lexer": "ipython3",
   "version": "3.7.3"
  }
 },
 "nbformat": 4,
 "nbformat_minor": 2
}
